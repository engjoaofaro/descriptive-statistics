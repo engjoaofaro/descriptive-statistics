{
 "cells": [
  {
   "metadata": {},
   "cell_type": "markdown",
   "source": [
    "# Estatística Descritiva - Atividade 01\n",
    "**Atividade da Pós-Graduação de Ciência de Dados e Machine Learning da PUC-Campinas**\n",
    "\n",
    "**Autor:** João Paulo Bremgartner Faro\n",
    "\n",
    "---\n",
    "\n",
    "## 📚 Base Teórica\n",
    "**Leitura dos capítulos 2, 3 e 4 do Livro de Estatística Básica**\n",
    "\n",
    "---\n",
    "\n",
    "## 📋 Exercícios\n",
    "\n",
    "### **Exercício 1** - Classificação de Variáveis\n",
    "\n",
    "Classifique as variáveis em: **qualitativa** (nominal ou ordinal) ou **quantitativa** (discreta ou contínua):\n",
    "\n",
    "**a)** Tipo de vitamina (A, B1, B2, B6, B12)\n",
    "\n",
    "**b)** Classificação de uma lesão (fatal; severa; moderada; pequena)\n",
    "\n",
    "**c)** Número de nascidos em certo hospital em jun/2017\n",
    "\n",
    "**d)** Concentração de flúor na água\n",
    "\n",
    "---\n",
    "\n",
    "### **Exercício 2** - Distribuição de Frequência\n",
    "\n",
    "Os dados abaixo referem-se ao **número de pessoas** em uma amostra de **35 domicílios** de uma dada classe social localizados no município de Campinas:\n"
   ],
   "id": "bda7d63c6d162a7b"
  },
  {
   "metadata": {},
   "cell_type": "markdown",
   "source": "2 3 4 4 5 3 4 5 6 5 3 1 5 5 1 3 4 5 5 5 3 2 2 5 4 4 2 3 5 4 5 4 2 4 9\n",
   "id": "b556a1fdf2b617d9"
  },
  {
   "metadata": {},
   "cell_type": "markdown",
   "source": [
    "**a)** Tendo em vista essa pesquisa, construa uma **distribuição de frequência sem intervalos de classe**\n",
    "\n",
    "**b)** Construa uma **distribuição de frequência em intervalos de classe**\n",
    "\n",
    "---\n",
    "\n",
    "### **Exercício 3** - Análise de Frequências\n",
    "\n",
    "Os dados a seguir referem-se ao **tempo, em horas**, que **80 pacientes hospitalizados** dormiram durante a administração de certo medicamento anestésico:\n",
    "\n",
    "| Tempo (h) | Nº de pacientes |\n",
    "|-----------|-----------------|\n",
    "| 0 ⊢—— 4   | 8               |\n",
    "| 4 ⊢—— 8   | 15              |\n",
    "| 8 ⊢—— 12  | 24              |\n",
    "| 12 ⊢—— 16 | 20              |\n",
    "| 16 ⊢—— 20 | 13              |\n",
    "\n",
    "**a)** Encontre a **frequência relativa** de cada classe\n",
    "\n",
    "**b)** Determine a **frequência acumulada** de cada classe\n",
    "\n",
    "**c)** Determine o **ponto médio** de cada classe\n",
    "\n",
    "**d)** Dê a interpretação para a **frequência relativa da 3ª classe**\n",
    "\n",
    "**e)** Qual o **percentual de pacientes** que dormiram menos de 12h?\n",
    "\n",
    "---\n",
    "\n",
    "## 💻 Resolução dos Exercícios\n",
    "*As soluções serão desenvolvidas nas células seguintes*\n"
   ],
   "id": "855d7d4600ff47cc"
  },
  {
   "metadata": {},
   "cell_type": "markdown",
   "source": "## **Resposta 1**",
   "id": "17475a86fba5afae"
  },
  {
   "metadata": {},
   "cell_type": "markdown",
   "source": [
    "**a)** Qualitativa nominal\n",
    "\n",
    "**b)** Qualitativa ordinal\n",
    "\n",
    "**c)** Quantitativa discreta\n",
    "\n",
    "**d)** Quantitativa contínua"
   ],
   "id": "a17327e14f4fcd5c"
  },
  {
   "metadata": {},
   "cell_type": "markdown",
   "source": "## **Resposta 2**",
   "id": "ca0898af43792837"
  },
  {
   "metadata": {},
   "cell_type": "markdown",
   "source": "**a)**",
   "id": "1c333441078c136d"
  },
  {
   "metadata": {
    "ExecuteTime": {
     "end_time": "2025-08-15T20:00:28.072916Z",
     "start_time": "2025-08-15T20:00:26.966914Z"
    }
   },
   "cell_type": "code",
   "source": [
    "# Installing Pandas and Matplotlib\n",
    "!pip install --upgrade pip\n",
    "!pip install pandas\n",
    "!pip install matplotlib"
   ],
   "id": "51759eab1a99848d",
   "outputs": [
    {
     "name": "stdout",
     "output_type": "stream",
     "text": [
      "/usr/bin/bash: warning: setlocale: LC_ALL: cannot change locale (en_US.UTF-8): No such file or directory\r\n",
      "Requirement already satisfied: pip in ./.venv/lib/python3.13/site-packages (25.2)\r\n",
      "/usr/bin/bash: warning: setlocale: LC_ALL: cannot change locale (en_US.UTF-8): No such file or directory\r\n",
      "Requirement already satisfied: pandas in ./.venv/lib/python3.13/site-packages (2.3.1)\r\n",
      "Requirement already satisfied: numpy>=1.26.0 in ./.venv/lib/python3.13/site-packages (from pandas) (2.3.2)\r\n",
      "Requirement already satisfied: python-dateutil>=2.8.2 in ./.venv/lib/python3.13/site-packages (from pandas) (2.9.0.post0)\r\n",
      "Requirement already satisfied: pytz>=2020.1 in ./.venv/lib/python3.13/site-packages (from pandas) (2025.2)\r\n",
      "Requirement already satisfied: tzdata>=2022.7 in ./.venv/lib/python3.13/site-packages (from pandas) (2025.2)\r\n",
      "Requirement already satisfied: six>=1.5 in ./.venv/lib/python3.13/site-packages (from python-dateutil>=2.8.2->pandas) (1.17.0)\r\n",
      "/usr/bin/bash: warning: setlocale: LC_ALL: cannot change locale (en_US.UTF-8): No such file or directory\r\n",
      "Requirement already satisfied: matplotlib in ./.venv/lib/python3.13/site-packages (3.10.5)\r\n",
      "Requirement already satisfied: contourpy>=1.0.1 in ./.venv/lib/python3.13/site-packages (from matplotlib) (1.3.3)\r\n",
      "Requirement already satisfied: cycler>=0.10 in ./.venv/lib/python3.13/site-packages (from matplotlib) (0.12.1)\r\n",
      "Requirement already satisfied: fonttools>=4.22.0 in ./.venv/lib/python3.13/site-packages (from matplotlib) (4.59.1)\r\n",
      "Requirement already satisfied: kiwisolver>=1.3.1 in ./.venv/lib/python3.13/site-packages (from matplotlib) (1.4.9)\r\n",
      "Requirement already satisfied: numpy>=1.23 in ./.venv/lib/python3.13/site-packages (from matplotlib) (2.3.2)\r\n",
      "Requirement already satisfied: packaging>=20.0 in ./.venv/lib/python3.13/site-packages (from matplotlib) (25.0)\r\n",
      "Requirement already satisfied: pillow>=8 in ./.venv/lib/python3.13/site-packages (from matplotlib) (11.3.0)\r\n",
      "Requirement already satisfied: pyparsing>=2.3.1 in ./.venv/lib/python3.13/site-packages (from matplotlib) (3.2.3)\r\n",
      "Requirement already satisfied: python-dateutil>=2.7 in ./.venv/lib/python3.13/site-packages (from matplotlib) (2.9.0.post0)\r\n",
      "Requirement already satisfied: six>=1.5 in ./.venv/lib/python3.13/site-packages (from python-dateutil>=2.7->matplotlib) (1.17.0)\r\n"
     ]
    }
   ],
   "execution_count": 1
  },
  {
   "metadata": {
    "ExecuteTime": {
     "end_time": "2025-08-15T20:00:28.082284Z",
     "start_time": "2025-08-15T20:00:28.080126Z"
    }
   },
   "cell_type": "code",
   "source": [
    "# Creating a list of the number of people per household\n",
    "qt_people = [0, 2, 3, 4, 4, 5, 3, 4, 5, 6, 5, 3, 1, 5, 5, 1, 3, 4, 5, 5, 5, 3, 2, 2, 5, 4, 4, 2, 3, 5, 4, 5 ,4 ,2 ,4, 9]"
   ],
   "id": "e0028d7c120a58c4",
   "outputs": [],
   "execution_count": 2
  },
  {
   "metadata": {
    "ExecuteTime": {
     "end_time": "2025-08-15T20:00:28.541427Z",
     "start_time": "2025-08-15T20:00:28.126565Z"
    }
   },
   "cell_type": "code",
   "source": [
    "# Importing Pandas and Matplotlib\n",
    "import pandas as pd\n",
    "import matplotlib.pyplot as plt\n",
    "\n",
    "# Getting dataframe\n",
    "df = pd.DataFrame(qt_people, columns=['qt_people'])\n",
    "print(df)\n"
   ],
   "id": "87dc93fa3c5605a5",
   "outputs": [
    {
     "name": "stdout",
     "output_type": "stream",
     "text": [
      "    qt_people\n",
      "0           0\n",
      "1           2\n",
      "2           3\n",
      "3           4\n",
      "4           4\n",
      "5           5\n",
      "6           3\n",
      "7           4\n",
      "8           5\n",
      "9           6\n",
      "10          5\n",
      "11          3\n",
      "12          1\n",
      "13          5\n",
      "14          5\n",
      "15          1\n",
      "16          3\n",
      "17          4\n",
      "18          5\n",
      "19          5\n",
      "20          5\n",
      "21          3\n",
      "22          2\n",
      "23          2\n",
      "24          5\n",
      "25          4\n",
      "26          4\n",
      "27          2\n",
      "28          3\n",
      "29          5\n",
      "30          4\n",
      "31          5\n",
      "32          4\n",
      "33          2\n",
      "34          4\n",
      "35          9\n"
     ]
    }
   ],
   "execution_count": 3
  },
  {
   "metadata": {
    "ExecuteTime": {
     "end_time": "2025-08-15T20:00:28.557352Z",
     "start_time": "2025-08-15T20:00:28.548814Z"
    }
   },
   "cell_type": "code",
   "source": [
    "# Drop rows where any value is 0\n",
    "df = df.loc[df['qt_people'] != 0]\n",
    "\n",
    "# Print some statistics\n",
    "df.describe()"
   ],
   "id": "34d1627d5c1111d9",
   "outputs": [
    {
     "data": {
      "text/plain": [
       "       qt_people\n",
       "count  35.000000\n",
       "mean    3.885714\n",
       "std     1.567528\n",
       "min     1.000000\n",
       "25%     3.000000\n",
       "50%     4.000000\n",
       "75%     5.000000\n",
       "max     9.000000"
      ],
      "text/html": [
       "<div>\n",
       "<style scoped>\n",
       "    .dataframe tbody tr th:only-of-type {\n",
       "        vertical-align: middle;\n",
       "    }\n",
       "\n",
       "    .dataframe tbody tr th {\n",
       "        vertical-align: top;\n",
       "    }\n",
       "\n",
       "    .dataframe thead th {\n",
       "        text-align: right;\n",
       "    }\n",
       "</style>\n",
       "<table border=\"1\" class=\"dataframe\">\n",
       "  <thead>\n",
       "    <tr style=\"text-align: right;\">\n",
       "      <th></th>\n",
       "      <th>qt_people</th>\n",
       "    </tr>\n",
       "  </thead>\n",
       "  <tbody>\n",
       "    <tr>\n",
       "      <th>count</th>\n",
       "      <td>35.000000</td>\n",
       "    </tr>\n",
       "    <tr>\n",
       "      <th>mean</th>\n",
       "      <td>3.885714</td>\n",
       "    </tr>\n",
       "    <tr>\n",
       "      <th>std</th>\n",
       "      <td>1.567528</td>\n",
       "    </tr>\n",
       "    <tr>\n",
       "      <th>min</th>\n",
       "      <td>1.000000</td>\n",
       "    </tr>\n",
       "    <tr>\n",
       "      <th>25%</th>\n",
       "      <td>3.000000</td>\n",
       "    </tr>\n",
       "    <tr>\n",
       "      <th>50%</th>\n",
       "      <td>4.000000</td>\n",
       "    </tr>\n",
       "    <tr>\n",
       "      <th>75%</th>\n",
       "      <td>5.000000</td>\n",
       "    </tr>\n",
       "    <tr>\n",
       "      <th>max</th>\n",
       "      <td>9.000000</td>\n",
       "    </tr>\n",
       "  </tbody>\n",
       "</table>\n",
       "</div>"
      ]
     },
     "execution_count": 4,
     "metadata": {},
     "output_type": "execute_result"
    }
   ],
   "execution_count": 4
  },
  {
   "metadata": {
    "ExecuteTime": {
     "end_time": "2025-08-15T20:00:28.606865Z",
     "start_time": "2025-08-15T20:00:28.602624Z"
    }
   },
   "cell_type": "code",
   "source": [
    "# Understanding frequency distribution\n",
    "pd.Series(df['qt_people']).value_counts().sort_values(ascending=False)"
   ],
   "id": "d935d636b94df0f",
   "outputs": [
    {
     "data": {
      "text/plain": [
       "qt_people\n",
       "5    11\n",
       "4     9\n",
       "3     6\n",
       "2     5\n",
       "1     2\n",
       "6     1\n",
       "9     1\n",
       "Name: count, dtype: int64"
      ]
     },
     "execution_count": 5,
     "metadata": {},
     "output_type": "execute_result"
    }
   ],
   "execution_count": 5
  },
  {
   "metadata": {
    "ExecuteTime": {
     "end_time": "2025-08-15T20:00:29.192768Z",
     "start_time": "2025-08-15T20:00:29.104165Z"
    }
   },
   "cell_type": "code",
   "source": [
    "# Plot frequency distribution\n",
    "plt.figure(figsize=(10, 6))\n",
    "plt.hist(df['qt_people'], bins=30, alpha=0.7, edgecolor='black')\n",
    "plt.title('People per Household')\n",
    "plt.xlabel('People')\n",
    "plt.ylabel('Frequency')"
   ],
   "id": "1c1ab02173250840",
   "outputs": [
    {
     "data": {
      "text/plain": [
       "Text(0, 0.5, 'Frequency')"
      ]
     },
     "execution_count": 6,
     "metadata": {},
     "output_type": "execute_result"
    },
    {
     "data": {
      "text/plain": [
       "<Figure size 1000x600 with 1 Axes>"
      ],
      "image/png": "[encoded data removed]"
     },
     "metadata": {},
     "output_type": "display_data"
    }
   ],
   "execution_count": 6
  },
  {
   "metadata": {},
   "cell_type": "markdown",
   "source": "**b)**",
   "id": "c74711fe1e2b3ae8"
  },
  {
   "metadata": {
    "ExecuteTime": {
     "end_time": "2025-08-15T20:00:29.206423Z",
     "start_time": "2025-08-15T20:00:29.199560Z"
    }
   },
   "cell_type": "code",
   "source": [
    "# Frequency distribution with intervals\n",
    "bins = [1, 3, 5, 7, 9, 11]\n",
    "intervals = pd.cut(qt_people, bins=bins, right=False)\n",
    "df_intervals = intervals.value_counts().sort_index()\n",
    "df_intervals = pd.DataFrame(df_intervals)\n",
    "df_intervals.columns = ['Frequency']\n",
    "df_intervals.index.name = 'Interval'\n",
    "\n",
    "df_intervals"
   ],
   "id": "aa25ab3f47fb29a4",
   "outputs": [
    {
     "data": {
      "text/plain": [
       "          Frequency\n",
       "Interval           \n",
       "[1, 3)            7\n",
       "[3, 5)           15\n",
       "[5, 7)           12\n",
       "[7, 9)            0\n",
       "[9, 11)           1"
      ],
      "text/html": [
       "<div>\n",
       "<style scoped>\n",
       "    .dataframe tbody tr th:only-of-type {\n",
       "        vertical-align: middle;\n",
       "    }\n",
       "\n",
       "    .dataframe tbody tr th {\n",
       "        vertical-align: top;\n",
       "    }\n",
       "\n",
       "    .dataframe thead th {\n",
       "        text-align: right;\n",
       "    }\n",
       "</style>\n",
       "<table border=\"1\" class=\"dataframe\">\n",
       "  <thead>\n",
       "    <tr style=\"text-align: right;\">\n",
       "      <th></th>\n",
       "      <th>Frequency</th>\n",
       "    </tr>\n",
       "    <tr>\n",
       "      <th>Interval</th>\n",
       "      <th></th>\n",
       "    </tr>\n",
       "  </thead>\n",
       "  <tbody>\n",
       "    <tr>\n",
       "      <th>[1, 3)</th>\n",
       "      <td>7</td>\n",
       "    </tr>\n",
       "    <tr>\n",
       "      <th>[3, 5)</th>\n",
       "      <td>15</td>\n",
       "    </tr>\n",
       "    <tr>\n",
       "      <th>[5, 7)</th>\n",
       "      <td>12</td>\n",
       "    </tr>\n",
       "    <tr>\n",
       "      <th>[7, 9)</th>\n",
       "      <td>0</td>\n",
       "    </tr>\n",
       "    <tr>\n",
       "      <th>[9, 11)</th>\n",
       "      <td>1</td>\n",
       "    </tr>\n",
       "  </tbody>\n",
       "</table>\n",
       "</div>"
      ]
     },
     "execution_count": 7,
     "metadata": {},
     "output_type": "execute_result"
    }
   ],
   "execution_count": 7
  },
  {
   "metadata": {},
   "cell_type": "markdown",
   "source": "## **Resposta 3**",
   "id": "931bd4e87968e3d7"
  },
  {
   "metadata": {
    "ExecuteTime": {
     "end_time": "2025-08-15T23:05:00.944724Z",
     "start_time": "2025-08-15T23:05:00.942758Z"
    }
   },
   "cell_type": "code",
   "source": [
    "# Creating table\n",
    "intervals = ['0 ⊢— 4', '4 ⊢— 8', '8 ⊢— 12', '12 ⊢— 16', '16 ⊢— 20']\n",
    "absolute_frequency = [8, 15, 24, 20, 13]\n",
    "# Validating total of patients\n",
    "patients = sum(absolute_frequency)\n",
    "\n",
    "print(f\"Patients: {patients}\")"
   ],
   "id": "2f8f8a59a5a443a4",
   "outputs": [
    {
     "name": "stdout",
     "output_type": "stream",
     "text": [
      "Patients: 80\n"
     ]
    }
   ],
   "execution_count": 17
  },
  {
   "metadata": {
    "ExecuteTime": {
     "end_time": "2025-08-15T23:06:36.330157Z",
     "start_time": "2025-08-15T23:06:36.327689Z"
    }
   },
   "cell_type": "code",
   "source": [
    "# Creating the initial DataFrame\n",
    "df_patients = pd.DataFrame({'Interval': intervals, 'Absolute Frequency': absolute_frequency})\n",
    "\n",
    "print(\"Initial Data:\")\n",
    "print(df_patients)"
   ],
   "id": "978cb98328b7e335",
   "outputs": [
    {
     "name": "stdout",
     "output_type": "stream",
     "text": [
      "Initial Data:\n",
      "   Interval  Absolute Frequency\n",
      "0    0 ⊢— 4                   8\n",
      "1    4 ⊢— 8                  15\n",
      "2   8 ⊢— 12                  24\n",
      "3  12 ⊢— 16                  20\n",
      "4  16 ⊢— 20                  13\n"
     ]
    }
   ],
   "execution_count": 18
  },
  {
   "metadata": {},
   "cell_type": "markdown",
   "source": "**a)**",
   "id": "59e4a7d23da6b23d"
  },
  {
   "metadata": {
    "ExecuteTime": {
     "end_time": "2025-08-15T23:11:06.186918Z",
     "start_time": "2025-08-15T23:11:06.184347Z"
    }
   },
   "cell_type": "code",
   "source": [
    "# Relative Frequency for each class\n",
    "relative_frequency = df_patients['Absolute Frequency'] / patients\n",
    "df_patients['Relative Frequency'] = relative_frequency\n",
    "\n",
    "print(\"\\na) Relative Frequency:\")\n",
    "for i, interval in enumerate(intervals):\n",
    "    print(f\"{interval}: {relative_frequency[i]:.2f}\")"
   ],
   "id": "a409810057a95b7",
   "outputs": [
    {
     "name": "stdout",
     "output_type": "stream",
     "text": [
      "\n",
      "a) Relative Frequency:\n",
      "0 ⊢— 4: 0.10\n",
      "4 ⊢— 8: 0.19\n",
      "8 ⊢— 12: 0.30\n",
      "12 ⊢— 16: 0.25\n",
      "16 ⊢— 20: 0.16\n"
     ]
    }
   ],
   "execution_count": 20
  }
 ],
 "metadata": {
  "kernelspec": {
   "display_name": "Python 3",
   "language": "python",
   "name": "python3"
  },
  "language_info": {
   "codemirror_mode": {
    "name": "ipython",
    "version": 2
   },
   "file_extension": ".py",
   "mimetype": "text/x-python",
   "name": "python",
   "nbconvert_exporter": "python",
   "pygments_lexer": "ipython2",
   "version": "2.7.6"
  }
 },
 "nbformat": 4,
 "nbformat_minor": 5
}
